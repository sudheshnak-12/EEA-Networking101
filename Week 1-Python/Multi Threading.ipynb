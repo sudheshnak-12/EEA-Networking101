{
 "cells": [
  {
   "cell_type": "markdown",
   "metadata": {},
   "source": [
    "# Multi Threading \n",
    "In a multithreaded socket server, each client is handled in a separate thread, allowing the server to manage multiple clients simultaneously. This prevents one client's operations from blocking others.\n",
    "\n",
    "## Implement the server in Socket calculator assignment in Multithread method "
   ]
  },
  {
   "cell_type": "code",
   "execution_count": null,
   "metadata": {},
   "outputs": [
    {
     "name": "stdout",
     "output_type": "stream",
     "text": [
      "Server listening on 127.0.0.1:8080\n",
      "Connected by ('127.0.0.1', 52365)\n",
      "Received from ('127.0.0.1', 52365): 3+4\n",
      "Error handling client ('127.0.0.1', 52365): [WinError 10054] An existing connection was forcibly closed by the remote host\n"
     ]
    }
   ],
   "source": [
    "import socket\n",
    "import re\n",
    "import threading\n",
    "\n",
    "\n",
    "def evaluate_expression(expression):\n",
    "    try:\n",
    "        result = eval(expression)\n",
    "        return result\n",
    "    except Exception as e:\n",
    "        return f\"Error: {e}\"\n",
    "\n",
    "\n",
    "def handle_client(conn, addr):\n",
    "    print(f\"Connected by {addr}\")\n",
    "    try:\n",
    "        while True:\n",
    "            data = conn.recv(1024)\n",
    "            if not data:\n",
    "                print(f\"Client {addr} disconnected.\")\n",
    "                break\n",
    "            print(f\"Received from {addr}: {data.decode()}\")\n",
    "\n",
    "            \n",
    "            message = data.decode()\n",
    "            if any(command in message.lower() for command in [\"calculate\", \"cal\", \"add\", \"subtract\", \"sub\", \"multi\", \"multiply\", \"div\", \"divide\"]):\n",
    "                expression = message.split(maxsplit=1)[1]\n",
    "            else:\n",
    "                expression = message.strip()\n",
    "\n",
    "        \n",
    "            expression = re.sub(r\"[^0-9+\\-*/().]\", \"\", expression)\n",
    "\n",
    "    \n",
    "            result = evaluate_expression(expression)\n",
    "\n",
    "            # Send the result only to this client\n",
    "            conn.sendall(str(result).encode())\n",
    "    except Exception as e:\n",
    "        print(f\"Error handling client {addr}: {e}\")\n",
    "    finally:\n",
    "        conn.close()\n",
    "\n",
    "# Server setup\n",
    "HOST = '127.0.0.1'\n",
    "PORT = 8080\n",
    "\n",
    "with socket.socket(socket.AF_INET, socket.SOCK_STREAM) as s:\n",
    "    s.bind((HOST, PORT))\n",
    "    s.listen()\n",
    "    print(f\"Server listening on {HOST}:{PORT}\")\n",
    "\n",
    "    while True:\n",
    "        conn, addr = s.accept()\n",
    "        threading.Thread(target=handle_client, args=(conn, addr)).start()\n"
   ]
  }
 ],
 "metadata": {
  "kernelspec": {
   "display_name": "Python 3",
   "language": "python",
   "name": "python3"
  },
  "language_info": {
   "codemirror_mode": {
    "name": "ipython",
    "version": 3
   },
   "file_extension": ".py",
   "mimetype": "text/x-python",
   "name": "python",
   "nbconvert_exporter": "python",
   "pygments_lexer": "ipython3",
   "version": "3.12.2"
  }
 },
 "nbformat": 4,
 "nbformat_minor": 2
}

{
 "cells": [
  {
   "cell_type": "markdown",
   "metadata": {},
   "source": [
    "# Client Code \n",
    "# ===========\n",
    "- Use a Separate file for this as 2 cells can't simultaneously run in a Python Notebook \n",
    "- The Client must connect to the sever at this socket \n",
    "- Take input from Serial Monitor and send it to server "
   ]
  },
  {
   "cell_type": "code",
   "execution_count": null,
   "metadata": {},
   "outputs": [
    {
     "name": "stdout",
     "output_type": "stream",
     "text": [
      "Connected to server at 127.0.0.1:8080\n"
     ]
    }
   ],
   "source": [
    "import socket\n",
    "\n",
    "HOST = '127.0.0.1'  \n",
    "PORT = 8080         \n",
    "\n",
    "\n",
    "with socket.socket(socket.AF_INET, socket.SOCK_STREAM) as s:\n",
    "    try:\n",
    "    \n",
    "        s.connect((HOST, PORT))\n",
    "        print(f\"Connected to server at {HOST}:{PORT}\")\n",
    "        \n",
    "        while True:\n",
    "            message = input(\"Enter a mathematical expression or command (e.g., 'add 3+4', 'calculate 5*5', 'exit'): \")\n",
    "\n",
    "            if message.lower() == 'exit':\n",
    "                print(\"Exiting client.\")\n",
    "                break\n",
    "\n",
    "            s.sendall(message.encode())\n",
    "\n",
    "            data = s.recv(1024)\n",
    "\n",
    "            print(f\"Server response: {data.decode()}\")\n",
    "\n",
    "    except Exception as e:\n",
    "        print(f\"Error connecting to the server: {e}\")\n"
   ]
  }
 ],
 "metadata": {
  "kernelspec": {
   "display_name": "Python 3",
   "language": "python",
   "name": "python3"
  },
  "language_info": {
   "codemirror_mode": {
    "name": "ipython",
    "version": 3
   },
   "file_extension": ".py",
   "mimetype": "text/x-python",
   "name": "python",
   "nbconvert_exporter": "python",
   "pygments_lexer": "ipython3",
   "version": "3.12.2"
  }
 },
 "nbformat": 4,
 "nbformat_minor": 2
}

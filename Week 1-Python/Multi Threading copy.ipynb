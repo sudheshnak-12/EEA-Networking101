{
 "cells": [
  {
   "cell_type": "markdown",
   "metadata": {},
   "source": [
    "# Multi Threading \n",
    "In a multithreaded socket server, each client is handled in a separate thread, allowing the server to manage multiple clients simultaneously. This prevents one client's operations from blocking others.\n",
    "\n",
    "## Implement the server in Socket calculator assignment in Multithread method "
   ]
  },
  {
   "cell_type": "code",
   "execution_count": null,
   "metadata": {},
   "outputs": [],
   "source": []
  },
  {
   "cell_type": "code",
   "execution_count": null,
   "metadata": {},
   "outputs": [],
   "source": []
  }
 ],
 "metadata": {
  "language_info": {
   "name": "python"
  }
 },
 "nbformat": 4,
 "nbformat_minor": 2
}

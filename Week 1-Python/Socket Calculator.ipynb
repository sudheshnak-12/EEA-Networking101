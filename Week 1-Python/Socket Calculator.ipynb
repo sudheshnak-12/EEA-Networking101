{
 "cells": [
  {
   "cell_type": "markdown",
   "metadata": {},
   "source": [
    "# Create a Calculator server using socket programming \n",
    " The Server should take string input from the client and use this input and perform the required operation and return the value as an integer \n",
    " <br>\n",
    "Ex : \n",
    "- Client Says \"Please calculate 2*4\" the server should return \"8\" \n",
    "- The Client could as say \"Cal 2*4\" and the server should return \"8\" \n",
    "- The client could say \"Add 2+4\" and the server should return \"6\"\n",
    "> Look for the operator in the string and check for integers preceding and following the operator"
   ]
  },
  {
   "cell_type": "markdown",
   "metadata": {},
   "source": [
    "# Server Code\n",
    "- Create a Socket at 127.0.0.1 or any other IP and some port no Ex :  8080"
   ]
  },
  {
   "cell_type": "code",
   "execution_count": null,
   "metadata": {},
   "outputs": [
    {
     "name": "stdout",
     "output_type": "stream",
     "text": [
      "Server listening on 127.0.0.1:8080\n",
      "Connected by ('127.0.0.1', 52067)\n",
      "Received data: calc 3*7\n"
     ]
    }
   ],
   "source": [
    "import socket\n",
    "import re\n",
    "\n",
    "# Define the function to do the calculation part\n",
    "def evaluate_expression(expression):\n",
    "    try:\n",
    "        result = eval(expression)\n",
    "        return result\n",
    "    except Exception as e:\n",
    "        return f\"Error: {e}\"\n",
    "\n",
    "HOST = '127.0.0.1'\n",
    "PORT = 8080\n",
    "\n",
    "with socket.socket(socket.AF_INET, socket.SOCK_STREAM) as s:\n",
    "    s.bind((HOST, PORT))\n",
    "    s.listen()\n",
    "    print(f\"Server listening on {HOST}:{PORT}\")\n",
    "\n",
    "    conn, addr = s.accept()\n",
    "    with conn:\n",
    "        print(f\"Connected by {addr}\")\n",
    "        while True:\n",
    "            try:\n",
    "                # Receive data from the client\n",
    "                data = conn.recv(1024)\n",
    "                if not data:\n",
    "                    print(\"No data received, closing connection.\")\n",
    "                    break  # Client disconnected\n",
    "                print(f\"Received data: {data.decode()}\")\n",
    "\n",
    "                # Process the message\n",
    "                message = data.decode()\n",
    "\n",
    "                # Check if the message contains a valid command\n",
    "                if any(command in message.lower() for command in [\"calculate\", \"cal\", \"add\", \"subtract\", \"sub\", \"multi\", \"multiply\", \"div\", \"divide\"]):\n",
    "                    expression = message.split(maxsplit=1)[1]\n",
    "                else:\n",
    "                    expression = message.strip()\n",
    "\n",
    "                # Sanitize the expression\n",
    "                expression = re.sub(r\"[^0-9+\\-*/().]\", \"\", expression)\n",
    "\n",
    "                # Evaluate the expression and get the result\n",
    "                result = evaluate_expression(expression)\n",
    "\n",
    "                # Send the result back to the client\n",
    "                conn.sendall(str(result).encode())\n",
    "\n",
    "            except Exception as e:\n",
    "                # If there's an error handling the message, send an error message to the client\n",
    "                print(f\"Error handling message: {e}\")\n",
    "                conn.sendall(f\"Error: {e}\".encode())\n",
    "\n"
   ]
  },
  {
   "cell_type": "markdown",
   "metadata": {},
   "source": [
    "# Client Code \n",
    "# ===========\n",
    "- Use a Separate file for this as 2 cells can't simultaneously run in a Python Notebook \n",
    "- The Client must connect to the sever at this socket \n",
    "- Take input from Serial Monitor and send it to server "
   ]
  },
  {
   "cell_type": "code",
   "execution_count": 1,
   "metadata": {},
   "outputs": [
    {
     "name": "stdout",
     "output_type": "stream",
     "text": [
      "Error connecting to the server: [WinError 10061] No connection could be made because the target machine actively refused it\n"
     ]
    }
   ],
   "source": [
    "import socket\n",
    "\n",
    "HOST = '127.0.0.1'  \n",
    "PORT = 8080         \n",
    "\n",
    "\n",
    "with socket.socket(socket.AF_INET, socket.SOCK_STREAM) as s:\n",
    "    try:\n",
    "    \n",
    "        s.connect((HOST, PORT))\n",
    "        print(f\"Connected to server at {HOST}:{PORT}\")\n",
    "        \n",
    "        while True:\n",
    "            message = input(\"Enter a mathematical expression or command (e.g., 'add 3+4', 'calculate 5*5', 'exit'): \")\n",
    "\n",
    "            if message.lower() == 'exit':\n",
    "                print(\"Exiting client.\")\n",
    "                break\n",
    "\n",
    "            s.sendall(message.encode())\n",
    "\n",
    "            data = s.recv(1024)\n",
    "\n",
    "            print(f\"Server response: {data.decode()}\")\n",
    "\n",
    "    except Exception as e:\n",
    "        print(f\"Error connecting to the server: {e}\")\n"
   ]
  },
  {
   "cell_type": "markdown",
   "metadata": {},
   "source": [
    "# Try running 2 client python file separately in 2 terminals \n",
    "- What happens to the output ? \n",
    "With the current code,the output disappears. This is because the server code uses s.accept(), which blocks and waits for one client to connect at a time. When one client connects, the server is blocked in the while loop until that client disconnects or the connection is closed."
   ]
  }
 ],
 "metadata": {
  "kernelspec": {
   "display_name": "Python 3",
   "language": "python",
   "name": "python3"
  },
  "language_info": {
   "codemirror_mode": {
    "name": "ipython",
    "version": 3
   },
   "file_extension": ".py",
   "mimetype": "text/x-python",
   "name": "python",
   "nbconvert_exporter": "python",
   "pygments_lexer": "ipython3",
   "version": "3.12.2"
  }
 },
 "nbformat": 4,
 "nbformat_minor": 2
}
